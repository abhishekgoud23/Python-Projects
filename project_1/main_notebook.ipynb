{
 "cells": [
  {
   "cell_type": "code",
   "execution_count": null,
   "metadata": {},
   "outputs": [],
   "source": [
    "import hashlib\n",
    "from os import walk\n",
    "import time\n",
    "import csv\n",
    "import os\n",
    "import pandas as pd\n",
    "import numpy as np"
   ]
  },
  {
   "cell_type": "code",
   "execution_count": 2,
   "metadata": {},
   "outputs": [],
   "source": [
    "#hashing\n",
    "\n",
    "def hashcode(file_path):\n",
    "    h = hashlib.sha256()\n",
    "\n",
    "    with open(file_path, 'rb') as file:\n",
    "        while True:\n",
    "            # Reading is buffered, so we can read smaller chunks.\n",
    "            chunk = file.read(h.block_size)\n",
    "            if not chunk:\n",
    "                break\n",
    "            h.update(chunk)\n",
    "\n",
    "    return h.hexdigest()"
   ]
  },
  {
   "cell_type": "code",
   "execution_count": 3,
   "metadata": {},
   "outputs": [],
   "source": [
    "def version_older_than_2days():\n",
    "        cwd = os.getcwd()\n",
    "        if (time.time() - os.path.getmtime(cwd+\"/file_info.csv\") > (2 * 24 * 60 * 60)):\n",
    "            return True\n",
    "        return False "
   ]
  },
  {
   "cell_type": "code",
   "execution_count": 4,
   "metadata": {},
   "outputs": [],
   "source": [
    "def types_of_files():\n",
    "        cwd = os.getcwd()\n",
    "        type_of_files = []\n",
    "        for (dirpath, dirnames, filenames) in walk(cwd):\n",
    "            path = dirpath\n",
    "            for i in range(len(filenames)):\n",
    "                if filenames[i] != \".DS_Store\":\n",
    "                    fname,ext = filenames[i].split(\".\")\n",
    "                    type_of_files.append(ext)\n",
    "        return set(type_of_files)"
   ]
  },
  {
   "cell_type": "code",
   "execution_count": 5,
   "metadata": {},
   "outputs": [],
   "source": [
    "def Mean_n_median_type(ty):\n",
    "    df = pd.read_csv(\"file_info.csv\")\n",
    "    mean = df.loc[df['Extension'] == ty, 'Size in bytes'].mean()\n",
    "    median = df.loc[df['Extension'] == ty, 'Size in bytes'].mean()\n",
    "    return mean,median"
   ]
  },
  {
   "cell_type": "code",
   "execution_count": 6,
   "metadata": {},
   "outputs": [],
   "source": [
    "def Mean_n_median_general():\n",
    "    df = pd.read_csv(\"file_info.csv\")\n",
    "    mean = df[\"Size in bytes\"].mean()\n",
    "    median = df[\"Size in bytes\"].median()\n",
    "    return mean,median"
   ]
  },
  {
   "cell_type": "code",
   "execution_count": 16,
   "metadata": {},
   "outputs": [
    {
     "name": "stdout",
     "output_type": "stream",
     "text": [
      "['folder_1', 'folder1_1', 'folder1_3', 'folder1_2', 'folder1_1_1', 'folder1_1_1_1', 'folder1_2_2', 'folder1_2_1'] ['/Users/abhishekthamatam/Desktop/UMBC/601/Project/project_1/folder_1', '/Users/abhishekthamatam/Desktop/UMBC/601/Project/project_1/folder_1/folder1_1', '/Users/abhishekthamatam/Desktop/UMBC/601/Project/project_1/folder_1/folder1_3', '/Users/abhishekthamatam/Desktop/UMBC/601/Project/project_1/folder_1/folder1_2', '/Users/abhishekthamatam/Desktop/UMBC/601/Project/project_1/folder_1/folder1_1/folder1_1_1', '/Users/abhishekthamatam/Desktop/UMBC/601/Project/project_1/folder_1/folder1_1/folder1_1_1/folder1_1_1_1', '/Users/abhishekthamatam/Desktop/UMBC/601/Project/project_1/folder_1/folder1_2/folder1_2_2', '/Users/abhishekthamatam/Desktop/UMBC/601/Project/project_1/folder_1/folder1_2/folder1_2_1']\n"
     ]
    },
    {
     "data": {
      "text/plain": [
       "('folder1_3', 20)"
      ]
     },
     "execution_count": 16,
     "metadata": {},
     "output_type": "execute_result"
    }
   ],
   "source": [
    "def folder_by_number():\n",
    "    cwd = os.getcwd()\n",
    "    folder = []\n",
    "    p = []\n",
    "    for (dirpath, dirnames, filenames) in walk(cwd):\n",
    "        for i in range(len(dirnames)):\n",
    "            if '.' not in dirnames[i]:\n",
    "                folder.append(dirnames[i])\n",
    "                p.append(dirpath+\"/\"+dirnames[i])\n",
    "    \n",
    "    maxi = 0\n",
    "    fname = \"\"\n",
    "    for i in range(len(folder)):\n",
    "        count = 0\n",
    "        # Iterate directory\n",
    "        for path in os.listdir(p[i]):\n",
    "            # check if current path is a file\n",
    "            if os.path.isfile(os.path.join(p[i], path)):\n",
    "                count += 1\n",
    "        if count > maxi:\n",
    "            maxi = count\n",
    "            fname = folder[i]\n",
    "    return fname,maxi\n",
    "\n",
    "folder_by_number()"
   ]
  },
  {
   "cell_type": "code",
   "execution_count": 7,
   "metadata": {},
   "outputs": [
    {
     "name": "stdout",
     "output_type": "stream",
     "text": [
      "\n",
      "Select type of report:\n",
      "1. Different types of files present in the folders\n",
      "2. Mean and median size of the files\n",
      "3. Folder name with the largest amount of files\n",
      "4. Exit\n",
      "Enter the Choice:  2\n",
      "\n",
      "Menu:\n",
      "1. General\n",
      "2. By type\n",
      "3. Return\n",
      "Enter the Choice:  2\n",
      "\n",
      "Enter the type:pdf\n",
      "\n",
      "Mean of size of the pdf type:  1292141.3934426229 bytes\n",
      "Median of size of the pdf type: 130330.0 bytes\n",
      "\n",
      "Menu:\n",
      "1. General\n",
      "2. By type\n",
      "3. Return\n",
      "Enter the Choice:  3\n",
      "\n",
      "Select type of report:\n",
      "1. Different types of files present in the folders\n",
      "2. Mean and median size of the files\n",
      "3. Folder name with the largest amount of files\n",
      "4. Exit\n",
      "Enter the Choice:  4\n"
     ]
    }
   ],
   "source": [
    "\n",
    "\n",
    "class Filepro:\n",
    "    \n",
    "    def get_info(self):\n",
    "        cwd = os.getcwd()\n",
    "        data = []\n",
    "        for (dirpath, dirnames, filenames) in walk(cwd):\n",
    "            #print(dirpath,dirnames, filenames)\n",
    "            path = dirpath\n",
    "            for i in range(len(filenames)):\n",
    "                ls = []\n",
    "                if filenames[i] != \".DS_Store\":\n",
    "                    fname,ext = filenames[i].split(\".\")\n",
    "                    fpath = path+\"/\"+filenames[i]\n",
    "                    ftime = time.ctime(os.path.getmtime(fpath))\n",
    "                    fhash = hashcode(fpath)\n",
    "                    fsize = os.path.getsize(fpath)\n",
    "                    ls.append(ext)\n",
    "                    ls.append(fsize)\n",
    "                    ls.append(fhash)\n",
    "                    ls.append(fname)\n",
    "                    ls.append(fpath)\n",
    "                    ls.append(ftime)\n",
    "                    data.append(ls)\n",
    "\n",
    "\n",
    "        header = ['Extension', 'Size in bytes', 'Hashcode', 'File Name','File Path','Date Modified']\n",
    "\n",
    "\n",
    "        with open('file_info.csv', 'w', encoding='UTF8', newline='') as f:\n",
    "            writer = csv.writer(f)\n",
    "            writer.writerow(header)\n",
    "            writer.writerows(data)\n",
    "            print(\"done!\")\n",
    "\n",
    "    \n",
    "    def __init__(self):\n",
    "        if os.path.exists(\"file_info.csv\"):\n",
    "            if version_older_than_2days():\n",
    "                self.get_info()\n",
    "        else:\n",
    "            self.get_info()\n",
    "      \n",
    "            \n",
    "    def generate_report(self):\n",
    "        if version_older_than_2days():\n",
    "            self.get_info()\n",
    "        while True:\n",
    "            print(\"\\nSelect type of report:\")  \n",
    "            print(\"1. Different types of files present in the folders\")  \n",
    "            print(\"2. Mean and median size of the files\")  \n",
    "            print(\"3. Folder name with the largest amount of files\")  \n",
    "            print(\"4. Exit\")\n",
    "            choice1 = int(input(\"Enter the Choice:  \"))  \n",
    "\n",
    "            if choice1 == 1:  \n",
    "                types = types_of_files()\n",
    "                for i in types:\n",
    "                    print(\"    \"+i)\n",
    "                    \n",
    "            elif choice1 == 2:  \n",
    "                while True:\n",
    "                    print(\"\\nMenu:\")  \n",
    "                    print(\"1. General\")  \n",
    "                    print(\"2. By type\")  \n",
    "                    print(\"3. Return\") \n",
    "                    choice2 = int(input(\"Enter the Choice:  \")) \n",
    "                    if choice2 == 1:  \n",
    "                        mean,median = Mean_n_median_general()\n",
    "                        print(\"\\nMean of size of the files:\",mean,\"bytes\")\n",
    "                        print(\"Median of size of the files:\",median,\"bytes\")\n",
    "                    elif choice2 == 2: \n",
    "                        ty = input(\"\\nEnter the type:\")\n",
    "                        Mean_n_median_type(ty)\n",
    "                        mean,median = Mean_n_median_general()\n",
    "                        print(\"\\nMean of size of the \"+ty+\" type: \",mean,\"bytes\")\n",
    "                        print(\"Median of size of the \"+ty+\" type:\",median,\"bytes\")\n",
    "                    elif choice2 == 3: \n",
    "                        break\n",
    "                    else:  \n",
    "                        print(\"Oops! Incorrect Choice.\")\n",
    "                        \n",
    "            elif choice1 == 3:  \n",
    "                while True:\n",
    "                    print(\"\\nMenu:\")  \n",
    "                    print(\"1. Folder with the largest amount of files by number\")  \n",
    "                    print(\"2. Folder with the largest amount of files by size\")  \n",
    "                    print(\"3. Return\") \n",
    "                    choice2 = int(input(\"Enter the Choice:  \")) \n",
    "                    if choice2 == 1:  \n",
    "                        pass\n",
    "                    elif choice2 == 2: \n",
    "                        pass\n",
    "                    elif choice2 == 3: \n",
    "                        break\n",
    "                    else:  \n",
    "                        print(\"Oops! Incorrect Choice.\")  \n",
    "                        \n",
    "            elif choice1 == 4:  \n",
    "                break  \n",
    "\n",
    "            else:  \n",
    "                print(\"Oops! Incorrect Choice.\")\n",
    "\n",
    "\n",
    "obj = Filepro()\n",
    "obj.generate_report()\n"
   ]
  },
  {
   "cell_type": "code",
   "execution_count": null,
   "metadata": {},
   "outputs": [],
   "source": []
  },
  {
   "cell_type": "code",
   "execution_count": null,
   "metadata": {},
   "outputs": [],
   "source": []
  },
  {
   "cell_type": "code",
   "execution_count": null,
   "metadata": {},
   "outputs": [],
   "source": []
  },
  {
   "cell_type": "code",
   "execution_count": null,
   "metadata": {},
   "outputs": [],
   "source": []
  }
 ],
 "metadata": {
  "kernelspec": {
   "display_name": "Python 3 (ipykernel)",
   "language": "python",
   "name": "python3"
  },
  "language_info": {
   "codemirror_mode": {
    "name": "ipython",
    "version": 3
   },
   "file_extension": ".py",
   "mimetype": "text/x-python",
   "name": "python",
   "nbconvert_exporter": "python",
   "pygments_lexer": "ipython3",
   "version": "3.9.12"
  },
  "vscode": {
   "interpreter": {
    "hash": "5f3f204e66fd676e9946d8f36622b1a223938bb87bf25afeb9bba307b147ff9a"
   }
  }
 },
 "nbformat": 4,
 "nbformat_minor": 2
}
