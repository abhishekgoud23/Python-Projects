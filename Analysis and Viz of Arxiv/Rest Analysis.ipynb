{
 "cells": [
  {
   "cell_type": "markdown",
   "id": "f92529e5",
   "metadata": {},
   "source": [
    "### Importing required libraries"
   ]
  },
  {
   "cell_type": "code",
   "execution_count": 1,
   "id": "6d053194",
   "metadata": {},
   "outputs": [],
   "source": [
    "import numpy as np\n",
    "import pandas as pd\n",
    "import matplotlib.pyplot as plt\n"
   ]
  },
  {
   "cell_type": "markdown",
   "id": "d800c8ba",
   "metadata": {},
   "source": [
    "### Importing csv file as data frame. Also creating data frames of each category."
   ]
  },
  {
   "cell_type": "code",
   "execution_count": 3,
   "id": "3d843f60",
   "metadata": {},
   "outputs": [],
   "source": [
    "df = pd.read_csv(\"task1.csv\")\n",
    "dfAI = df.loc[(df['primary_category'] == 'cs.AI')]\n",
    "dfCC = df.loc[(df['primary_category'] == 'cs.CC')]\n",
    "dfLG = df.loc[(df['primary_category'] == 'cs.LG')]\n",
    "dfAR = df.loc[(df['primary_category'] == 'cs.AR')]"
   ]
  },
  {
   "cell_type": "markdown",
   "id": "883ee66f",
   "metadata": {},
   "source": [
    "### Task 1\n",
    "\n",
    "### Top 3 authors in each category by number of papers between 2017 and 2021"
   ]
  },
  {
   "cell_type": "code",
   "execution_count": 4,
   "id": "6dffb148",
   "metadata": {},
   "outputs": [],
   "source": [
    "#Reference: https://www.geeksforgeeks.org/find-k-numbers-occurrences-given-array/\n",
    "\n",
    "def top3(arr, n):\n",
    "    K = 3                                       #top kth number. In this case it is 3 so K = 3\n",
    "    dic = {}                                    \n",
    "    for i in range(n):                          #Traversing through range n\n",
    "        if arr[i] in dic:                       #If arr[i] is already in the array then increment by 1\n",
    "            dic[arr[i]] += 1                    \n",
    "        else:                                   #Else add this to dictionary with val as 1\n",
    "            dic[arr[i]] = 1\n",
    "    temp = [0] * (len(dic))                     #Creating temp array with same length of dictionary and default values as 0\n",
    "    j = 0                                       #Temp var\n",
    "    for i in dic:                               #Traversing the dictionary\n",
    "        temp[j] = [i, dic[i]]                   #storing i and dic[i] as list\n",
    "        j += 1                                  #Incrementing with 1\n",
    "    temp = sorted(temp, key=lambda x: x[0],reverse=True) #sorting with 1st elements using lambda\n",
    "    temp = sorted(temp, key=lambda x: x[1],reverse=True) #sorting with 2nd elements using lambda\n",
    "    l = len(temp)\n",
    "    newDic = {}                                 #New dictionary\n",
    "    for i in range(l):                          #Looping for size of array temp\n",
    "        if i >= K :                             #Break when kth number is reached\n",
    "            break\n",
    "        else:newDic[temp[i][0]] = dic[temp[i][0]] #else populating new dic with old dic as shown\n",
    "    return newDic                               #returning new Dictionary"
   ]
  },
  {
   "cell_type": "markdown",
   "id": "5fa1087f",
   "metadata": {},
   "source": [
    "#### This function takes filtered vals of Dataframe, Finds all authors in that, calls top3 funtion and returns it values."
   ]
  },
  {
   "cell_type": "code",
   "execution_count": 22,
   "id": "5640eac6",
   "metadata": {},
   "outputs": [],
   "source": [
    "def listOfAuthors(dftemp):\n",
    "    ls = []                            #List to store authors extracted in below loop\n",
    "    for i in dftemp:                   #Traversing through DataFrame\n",
    "        i = i.strip('][').replace(\"'\",\"\").split(', ') #Seperating each author\n",
    "        ls += i                        #Adding to the list\n",
    "    return top3(ls,len(ls))            #returning result of top3 function with the list ls as parameter"
   ]
  },
  {
   "cell_type": "code",
   "execution_count": 23,
   "id": "6678e93d",
   "metadata": {},
   "outputs": [
    {
     "name": "stdout",
     "output_type": "stream",
     "text": [
      "['Julian Togelius', 'Subbarao Kambhampati', 'Joshua B. Tenenbaum']\n",
      "['Erik D. Demaine', 'Mrinal Kumar', 'Till Fluschnik']\n",
      "['Sergey Levine', 'Pieter Abbeel', 'Yoshua Bengio']\n",
      "['Onur Mutlu', 'Saugata Ghose', 'Luca Benini']\n"
     ]
    }
   ],
   "source": [
    "dfaat = dfAI['authors']                #Filtering authors from dataframe of AI category\n",
    "dfcat = dfCC['authors']                #Filtering authors from dataframe of CC category\n",
    "dflat = dfLG['authors']                #Filtering authors from dataframe of LG category\n",
    "dfarat = dfAR['authors']               #Filtering authors from dataframe of AR category\n",
    "\n",
    "AI = listOfAuthors(dfaat)              #Calling listOfAuthors with the dfaat as parameter\n",
    "CC = listOfAuthors(dfcat)              #Calling listOfAuthors with the dfcat as parameter\n",
    "LG = listOfAuthors(dflat)              #Calling listOfAuthors with the dflat as parameter\n",
    "AR = listOfAuthors(dfarat)             #Calling listOfAuthors with the dfarat as parameter\n",
    "\n",
    "lsAI = list(AI.keys())                 #Creating list with keys of AI dataframe\n",
    "lsCC = list(CC.keys())                 #Creating list with keys of CC dataframe\n",
    "lsLG = list(LG.keys())                 #Creating list with keys of LG dataframe\n",
    "lsAR = list(AR.keys())                 #Creating list with keys of AR dataframe\n",
    "\n",
    "print(lsAI)\n",
    "print(lsCC)\n",
    "print(lsLG)\n",
    "print(lsAR)"
   ]
  },
  {
   "cell_type": "markdown",
   "id": "bf87e8e6",
   "metadata": {},
   "source": [
    "#### Task 2\n",
    "\n",
    "#### Average publication rate for each of the top 3 authors\n",
    "\n",
    "This function is to find Average publication rate"
   ]
  },
  {
   "cell_type": "code",
   "execution_count": 8,
   "id": "e12fb9a1",
   "metadata": {},
   "outputs": [],
   "source": [
    "def avgPubRate(d):                        \n",
    "    for i in d.keys():                     #Traversing through the keys of dictionary\n",
    "        print(\"Average Publication rate of\",i,\":\",d[i]/5) #Prints avg rate"
   ]
  },
  {
   "cell_type": "code",
   "execution_count": 24,
   "id": "31f04e6d",
   "metadata": {},
   "outputs": [
    {
     "name": "stdout",
     "output_type": "stream",
     "text": [
      "Average Publication rate of Julian Togelius : 9.6\n",
      "Average Publication rate of Subbarao Kambhampati : 7.8\n",
      "Average Publication rate of Joshua B. Tenenbaum : 5.0\n",
      "Average Publication rate of Erik D. Demaine : 5.2\n",
      "Average Publication rate of Mrinal Kumar : 3.6\n",
      "Average Publication rate of Till Fluschnik : 3.4\n",
      "Average Publication rate of Sergey Levine : 34.4\n",
      "Average Publication rate of Pieter Abbeel : 22.2\n",
      "Average Publication rate of Yoshua Bengio : 20.8\n",
      "Average Publication rate of Onur Mutlu : 17.4\n",
      "Average Publication rate of Saugata Ghose : 6.8\n",
      "Average Publication rate of Luca Benini : 5.4\n"
     ]
    }
   ],
   "source": [
    "avgPubRate(AI)                 #Passing AI dictionary as parameter to avgPubRate function\n",
    "avgPubRate(CC)                 #Passing CC dictionary as parameter to avgPubRate function\n",
    "avgPubRate(LG)                 #Passing LG dictionary as parameter to avgPubRate function\n",
    "avgPubRate(AR)                 #Passing AR dictionary as parameter to avgPubRate function"
   ]
  },
  {
   "cell_type": "markdown",
   "id": "9a46fb88",
   "metadata": {},
   "source": [
    "#### Task 3\n",
    "\n",
    "#### Finding the mean and median of the number of words in the summary(abstract) for each of the primary categories"
   ]
  },
  {
   "cell_type": "code",
   "execution_count": 10,
   "id": "09f4ec87",
   "metadata": {},
   "outputs": [
    {
     "data": {
      "text/plain": [
       "159.1404958677686"
      ]
     },
     "execution_count": 10,
     "metadata": {},
     "output_type": "execute_result"
    }
   ],
   "source": [
    "wrdsInSumAI = dfAI[\"summary\"].apply(lambda x: len(x.split())) #Finding Number of words in Summary of AI Category \n",
    "wrdsInSumAI.mean()                                            #Finding mean using mean() function"
   ]
  },
  {
   "cell_type": "code",
   "execution_count": 11,
   "id": "3840cdcd",
   "metadata": {},
   "outputs": [
    {
     "data": {
      "text/plain": [
       "168.26510067114094"
      ]
     },
     "execution_count": 11,
     "metadata": {},
     "output_type": "execute_result"
    }
   ],
   "source": [
    "wrdsInSumCC = dfCC[\"summary\"].apply(lambda x: len(x.split())) #Finding Number of words in Summary of CC Category\n",
    "wrdsInSumCC.mean()                                            #Finding mean using mean() function"
   ]
  },
  {
   "cell_type": "code",
   "execution_count": 12,
   "id": "f12f4cad",
   "metadata": {},
   "outputs": [
    {
     "data": {
      "text/plain": [
       "166.83348184150128"
      ]
     },
     "execution_count": 12,
     "metadata": {},
     "output_type": "execute_result"
    }
   ],
   "source": [
    "wrdsInSumLG = dfLG[\"summary\"].apply(lambda x: len(x.split())) #Finding Number of words in Summary of LG Category\n",
    "wrdsInSumLG.mean()                                            #Finding mean using mean() function"
   ]
  },
  {
   "cell_type": "code",
   "execution_count": 13,
   "id": "59a1769b",
   "metadata": {},
   "outputs": [
    {
     "data": {
      "text/plain": [
       "182.91196172248803"
      ]
     },
     "execution_count": 13,
     "metadata": {},
     "output_type": "execute_result"
    }
   ],
   "source": [
    "wrdsInSumAR = dfAR[\"summary\"].apply(lambda x: len(x.split())) #Finding Number of words in Summary of AR Category\n",
    "wrdsInSumAR.mean()                                            #Finding mean using mean() function"
   ]
  },
  {
   "cell_type": "code",
   "execution_count": 25,
   "id": "83830205",
   "metadata": {},
   "outputs": [
    {
     "data": {
      "text/plain": [
       "156.0"
      ]
     },
     "execution_count": 25,
     "metadata": {},
     "output_type": "execute_result"
    }
   ],
   "source": [
    "wrdsInSumAI.median()      #Finding median using median() function"
   ]
  },
  {
   "cell_type": "code",
   "execution_count": 26,
   "id": "dc71f25c",
   "metadata": {},
   "outputs": [
    {
     "data": {
      "text/plain": [
       "165.5"
      ]
     },
     "execution_count": 26,
     "metadata": {},
     "output_type": "execute_result"
    }
   ],
   "source": [
    "wrdsInSumCC.median()      #Finding median using median() function"
   ]
  },
  {
   "cell_type": "code",
   "execution_count": 16,
   "id": "c920b668",
   "metadata": {},
   "outputs": [
    {
     "data": {
      "text/plain": [
       "164.0"
      ]
     },
     "execution_count": 16,
     "metadata": {},
     "output_type": "execute_result"
    }
   ],
   "source": [
    "wrdsInSumLG.median()      #Finding median using median() function"
   ]
  },
  {
   "cell_type": "code",
   "execution_count": 30,
   "id": "71203bb1",
   "metadata": {},
   "outputs": [
    {
     "data": {
      "text/plain": [
       "182.0"
      ]
     },
     "execution_count": 30,
     "metadata": {},
     "output_type": "execute_result"
    }
   ],
   "source": [
    "wrdsInSumAR.median()      #Finding median using median() function"
   ]
  },
  {
   "cell_type": "markdown",
   "id": "d27346f4",
   "metadata": {},
   "source": [
    "#### Task 4\n",
    "\n",
    "#### Histogram for each primary category with the number of words in summary vs density"
   ]
  },
  {
   "cell_type": "code",
   "execution_count": 18,
   "id": "550dd505",
   "metadata": {},
   "outputs": [
    {
     "data": {
      "image/png": "[encoded data removed]",
      "text/plain": [
       "<Figure size 432x288 with 1 Axes>"
      ]
     },
     "metadata": {
      "needs_background": "light"
     },
     "output_type": "display_data"
    }
   ],
   "source": [
    "plt.hist(wrdsInSumAI)                    #Plotting Histogram using hist()\n",
    "plt.xlabel('No. of words')               #Xlabel function is used to give name for x axis\n",
    "plt.ylabel('Density')                    #Ylabel function is used to give name for y axis\n",
    "  \n",
    "plt.title('cs.AI',fontweight =\"bold\")    #Title function is used to give name/title for graph\n",
    "plt.show()"
   ]
  },
  {
   "cell_type": "code",
   "execution_count": 31,
   "id": "187ab12b",
   "metadata": {},
   "outputs": [
    {
     "data": {
      "image/png": "[encoded data removed]",
      "text/plain": [
       "<Figure size 432x288 with 1 Axes>"
      ]
     },
     "metadata": {
      "needs_background": "light"
     },
     "output_type": "display_data"
    }
   ],
   "source": [
    "plt.hist(wrdsInSumCC)                    #Plotting Histogram using hist()\n",
    "plt.xlabel('No. of words')               #Xlabel function is used to give name for x axis\n",
    "plt.ylabel('Density')                    #Ylabel function is used to give name for y axis\n",
    "  \n",
    "plt.title('cs.CC',fontweight =\"bold\")    #Title function is used to give name/title for graph\n",
    "plt.show()"
   ]
  },
  {
   "cell_type": "code",
   "execution_count": 32,
   "id": "69cd78c1",
   "metadata": {},
   "outputs": [
    {
     "data": {
      "image/png": "[encoded data removed]",
      "text/plain": [
       "<Figure size 432x288 with 1 Axes>"
      ]
     },
     "metadata": {
      "needs_background": "light"
     },
     "output_type": "display_data"
    }
   ],
   "source": [
    "plt.hist(wrdsInSumLG)                    #Plotting Histogram using hist()\n",
    "plt.xlabel('No. of words')               #Xlabel function is used to give name for x axis\n",
    "plt.ylabel('Density')                    #Ylabel function is used to give name for y axis\n",
    "  \n",
    "plt.title('cs.LG',fontweight =\"bold\")    #Title function is used to give name/title for graph\n",
    "plt.show()"
   ]
  },
  {
   "cell_type": "code",
   "execution_count": 33,
   "id": "9ad8a8e6",
   "metadata": {},
   "outputs": [
    {
     "data": {
      "image/png": "[encoded data removed]",
      "text/plain": [
       "<Figure size 432x288 with 1 Axes>"
      ]
     },
     "metadata": {
      "needs_background": "light"
     },
     "output_type": "display_data"
    }
   ],
   "source": [
    "plt.hist(wrdsInSumAR)                    #Plotting Histogram using hist()\n",
    "plt.xlabel('No. of words')               #Xlabel function is used to give name for x axis\n",
    "plt.ylabel('Density')                    #Ylabel function is used to give name for y axis\n",
    "  \n",
    "plt.title('cs.AR',fontweight =\"bold\")    #Title function is used to give name/title for graph\n",
    "plt.show()"
   ]
  },
  {
   "cell_type": "code",
   "execution_count": null,
   "id": "5d7a0e61",
   "metadata": {},
   "outputs": [],
   "source": []
  }
 ],
 "metadata": {
  "kernelspec": {
   "display_name": "Python 3 (ipykernel)",
   "language": "python",
   "name": "python3"
  },
  "language_info": {
   "codemirror_mode": {
    "name": "ipython",
    "version": 3
   },
   "file_extension": ".py",
   "mimetype": "text/x-python",
   "name": "python",
   "nbconvert_exporter": "python",
   "pygments_lexer": "ipython3",
   "version": "3.9.12"
  }
 },
 "nbformat": 4,
 "nbformat_minor": 5
}
