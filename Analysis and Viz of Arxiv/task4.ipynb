{
 "cells": [
  {
   "cell_type": "markdown",
   "id": "df578d4f",
   "metadata": {},
   "source": [
    "# Plotting Bar graph - Years vs No. of Papers"
   ]
  },
  {
   "cell_type": "markdown",
   "id": "47893682",
   "metadata": {},
   "source": [
    "### Importing required libraries and also importing task 2 python notebook"
   ]
  },
  {
   "cell_type": "code",
   "execution_count": 12,
   "id": "ce751ca0",
   "metadata": {},
   "outputs": [],
   "source": [
    "from ipynb.fs.full.task2 import * #Imports task2 python notebook, its functions, and variables so on.\n",
    "import pandas as pd\n",
    "import matplotlib.pyplot as plt"
   ]
  },
  {
   "cell_type": "markdown",
   "id": "e872d5bd",
   "metadata": {},
   "source": [
    "### Importing csv file as data frame. Also creating data frames of each category."
   ]
  },
  {
   "cell_type": "code",
   "execution_count": 13,
   "id": "ec360fcd",
   "metadata": {},
   "outputs": [],
   "source": [
    "df = pd.read_csv(\"task1.csv\")      #Reading csv file using read_csv() of pandas library to data frame\n",
    "dfAR = df.loc[(df['primary_category'] == 'cs.AR')]     #dfAR is dataframe whose primary category is cs.AR\n",
    "dfLG = df.loc[(df['primary_category'] == 'cs.LG')]     #dfLG is dataframe whose primary category is cs.LG\n",
    "dfCC = df.loc[(df['primary_category'] == 'cs.CC')]     #dfCC is dataframe whose primary category is cs.CC\n",
    "dfAI = df.loc[(df['primary_category'] == 'cs.AI')]     #dfAI is dataframe whose primary category is cs.AI"
   ]
  },
  {
   "cell_type": "markdown",
   "id": "6a3fa678",
   "metadata": {},
   "source": [
    "### Below block finds number of publications of each category of specific year"
   ]
  },
  {
   "cell_type": "code",
   "execution_count": 14,
   "id": "f36bada1",
   "metadata": {},
   "outputs": [
    {
     "name": "stdout",
     "output_type": "stream",
     "text": [
      "[1209, 1442, 806, 1916, 2128]\n",
      "[311, 283, 233, 342, 320]\n",
      "[2340, 4736, 5799, 11097, 13060]\n",
      "[127, 122, 100, 310, 386]\n"
     ]
    }
   ],
   "source": [
    "yrs = [2017,2018,2019,2020,2021]           #Years of data collected\n",
    "\n",
    "aiYearWise = [dfAI[dfAI['published'].str.contains(str(i))].shape[0]  for i in yrs] #creating a list with number of publications of AI category of specific year\n",
    "ccYearWise = [dfCC[dfCC['published'].str.contains(str(i))].shape[0]  for i in yrs] #creating a list with number of publications of CC category of specific year\n",
    "lgYearWise = [dfLG[dfLG['published'].str.contains(str(i))].shape[0]  for i in yrs] #creating a list with number of publications of LG category of specific year\n",
    "arYearWise = [dfAR[dfAR['published'].str.contains(str(i))].shape[0]  for i in yrs] #creating a list with number of publications of AR category of specific year\n",
    "\n",
    "print(aiYearWise)\n",
    "print(ccYearWise)\n",
    "print(lgYearWise)\n",
    "print(arYearWise)"
   ]
  },
  {
   "cell_type": "markdown",
   "id": "83c81801",
   "metadata": {},
   "source": [
    "### Below block is used to plot Bar graph as in problem statement"
   ]
  },
  {
   "cell_type": "code",
   "execution_count": 15,
   "id": "5ddb7b75",
   "metadata": {},
   "outputs": [
    {
     "data": {
      "image/png": "[encoded data removed]",
      "text/plain": [
       "<Figure size 432x288 with 1 Axes>"
      ]
     },
     "metadata": {
      "needs_background": "light"
     },
     "output_type": "display_data"
    }
   ],
   "source": [
    "df = pd.DataFrame({\n",
    "    'Years' : yrs,\n",
    "    'AI': aiYearWise,\n",
    "    'CC': ccYearWise,\n",
    "    'LG': lgYearWise,\n",
    "    'AR': arYearWise,\n",
    "})                                                       #Creating Data Frame \n",
    "                                                         #Plotting graph\n",
    "\n",
    "df.plot(x=\"Years\", y=[\"AI\", \"CC\",\"LG\",\"AR\"], kind=\"bar\") #Ploting bar graph with years on X axis and Categories on Y axis\n",
    "plt.title(\"Years vs No. of Papers\")                      #Title function is used to give name/title for graph\n",
    "plt.xlabel(\"Years\")                                      #Xlabel function is used to give name for x axis\n",
    "plt.ylabel(\"No. of Papers\")                              #Ylabel function is used to give name for y axis\n",
    "plt.show()"
   ]
  },
  {
   "cell_type": "code",
   "execution_count": null,
   "id": "a7606308",
   "metadata": {},
   "outputs": [],
   "source": []
  }
 ],
 "metadata": {
  "kernelspec": {
   "display_name": "Python 3 (ipykernel)",
   "language": "python",
   "name": "python3"
  },
  "language_info": {
   "codemirror_mode": {
    "name": "ipython",
    "version": 3
   },
   "file_extension": ".py",
   "mimetype": "text/x-python",
   "name": "python",
   "nbconvert_exporter": "python",
   "pygments_lexer": "ipython3",
   "version": "3.9.12"
  }
 },
 "nbformat": 4,
 "nbformat_minor": 5
}
